{
 "cells": [
  {
   "cell_type": "code",
   "execution_count": 10,
   "metadata": {},
   "outputs": [],
   "source": [
    "import os\n",
    "import csv\n",
    "\n",
    "filePath = \"/home/airobot/Desktop/Data/formatted_BB/\""
   ]
  },
  {
   "cell_type": "code",
   "execution_count": 11,
   "metadata": {},
   "outputs": [],
   "source": [
    "def readFile(filename):\n",
    "    fopen = open(filename, 'r') # r 代表read\n",
    "    csvFile = open(\"/home/airobot/Desktop/my_train_openssl_gcc.csv\", \"a\")\n",
    "    writer = csv.writer(csvFile)\n",
    "    cell = \"\"\n",
    "    for eachLine in fopen:\n",
    "        if(eachLine != \"@BB\\n\"):\n",
    "            cell = cell + eachLine\n",
    "        elif(cell != \"\"):\n",
    "            writer.writerow([cell])\n",
    "            cell = \"\"\n",
    "\n",
    "    writer.writerow([cell])\n",
    "    #print(cell)\n",
    "    fopen.close()\n",
    "    csvFile.close()\n",
    "\n",
    "\n",
    "\n",
    "def eachFile(filepath):\n",
    "    pathDir =  os.listdir(filepath)\n",
    "    for allDir in pathDir:\n",
    "        child = os.path.join('%s%s' % (filepath, allDir))\n",
    "        readFile(child)\n",
    "        #print(child)\n",
    "        "
   ]
  },
  {
   "cell_type": "code",
   "execution_count": 12,
   "metadata": {},
   "outputs": [],
   "source": [
    "eachFile(filePath)\n"
   ]
  },
  {
   "cell_type": "code",
   "execution_count": 12,
   "metadata": {},
   "outputs": [],
   "source": []
  },
  {
   "cell_type": "code",
   "execution_count": null,
   "metadata": {},
   "outputs": [],
   "source": []
  }
 ],
 "metadata": {
  "kernelspec": {
   "display_name": "Python 2",
   "language": "python",
   "name": "python2"
  },
  "language_info": {
   "codemirror_mode": {
    "name": "ipython",
    "version": 2
   },
   "file_extension": ".py",
   "mimetype": "text/x-python",
   "name": "python",
   "nbconvert_exporter": "python",
   "pygments_lexer": "ipython2",
   "version": "2.7.12"
  }
 },
 "nbformat": 4,
 "nbformat_minor": 2
}
