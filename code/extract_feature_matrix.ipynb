{
 "cells": [
  {
   "cell_type": "code",
   "execution_count": 12,
   "metadata": {},
   "outputs": [],
   "source": [
    "import csv\n",
    "import collections\n",
    "\n",
    "term_list = ['sub', 'add', 'push', 'pop', 'call', 'cmp', 'lea']\n",
    "\n",
    "initial_dict = {'sub': 0, 'add': 0, 'push': 0, 'pop': 0, 'call': 0, 'cmp': 0, 'lea': 0}\n",
    "\n",
    "od = collections.OrderedDict(sorted(initial_dict.items()))\n",
    "\n",
    "#print(od)\n",
    "\n",
    "list_of_dict = [od.copy()]\n",
    "\n"
   ]
  },
  {
   "cell_type": "code",
   "execution_count": 13,
   "metadata": {},
   "outputs": [],
   "source": [
    "filename = \"/home/airobot/Desktop/bbs_csv/my_train_openssl_gcc.csv\"\n",
    "\n",
    "with open(filename, 'rb') as f:\n",
    "    reader = csv.reader(f)\n",
    "    i = 0\n",
    "    \n",
    "    for row in reader:\n",
    "        cell = row[0]\n",
    "        for line in cell.splitlines():\n",
    "            #print(line)\n",
    "            pos2 = line.find('*')\n",
    "            #print(pos2)\n",
    "            if pos2 > -1:\n",
    "                if line[0:pos2] in list_of_dict[i]:\n",
    "                    list_of_dict[i][line[0:pos2]] = list_of_dict[i][line[0:pos2]]+1\n",
    "            else:\n",
    "                if line[:] in list_of_dict[i]:\n",
    "                    list_of_dict[i][line[:]] = list_of_dict[i][line[:]]+1\n",
    "    \n",
    "        #print(list_of_dict[i])\n",
    "        i = i+1\n",
    "        list_of_dict.append(od.copy())\n",
    "\n"
   ]
  },
  {
   "cell_type": "code",
   "execution_count": 14,
   "metadata": {},
   "outputs": [
    {
     "name": "stdout",
     "output_type": "stream",
     "text": [
      "[[ 158.  390.   12.    2.    0.    0.  342.]\n",
      " [   0.    0.    1.   17.   96.    0.    0.]\n",
      " [   0.    0.    1.    0.    0.    5.    0.]\n",
      " [  31.    0.    1.   30.    0.    0.   64.]\n",
      " [   5.    0.    0.    6.    1.    0.    0.]\n",
      " [   0.    0.   19.    0.    0.    0.    0.]\n",
      " [  16.    1.    1.    0.    0.    0.    2.]]\n"
     ]
    }
   ],
   "source": [
    "from numpy import *\n",
    "m = mat(zeros((7,7))) \n",
    "\n",
    "for index in range(len(term_list)):\n",
    "    list_of_dict.sort(key=lambda obj:obj.get(term_list[index]), reverse=True)\n",
    "    m[0,index] = list_of_dict[0]['add']\n",
    "    m[1,index] = list_of_dict[1]['call']\n",
    "    m[2,index] = list_of_dict[2]['cmp']\n",
    "    m[3,index] = list_of_dict[3]['lea']\n",
    "    m[4,index] = list_of_dict[4]['pop']\n",
    "    m[5,index] = list_of_dict[5]['push']\n",
    "    m[6,index] = list_of_dict[6]['sub']\n",
    "\n",
    "print(m)\n",
    "\n"
   ]
  },
  {
   "cell_type": "code",
   "execution_count": 26,
   "metadata": {},
   "outputs": [
    {
     "name": "stdout",
     "output_type": "stream",
     "text": [
      "[ 0  3  0  1  0  1  0  1  0  0  0 23 46  3  1  0  0  0  1  1  0  1  0  0  0\n",
      "  1  3  2  0  0  0  3  2  0  0  6  0  2  0  3  0  0  1  0  1  0  0  0  0]\n",
      "0.123923492457\n"
     ]
    }
   ],
   "source": [
    "'''\n",
    "list_of_dict.sort(key=lambda obj:obj.get('add'), reverse=True)\n",
    "\n",
    "for element in list_of_dict:\n",
    "    print(element)\n",
    "    \n",
    "m[0,0] = list_of_dict[0]['add']\n",
    "m[1,0] = list_of_dict[1]['call']\n",
    "m[2,0] = list_of_dict[2]['cmp']\n",
    "m[3,0] = list_of_dict[3]['lea']\n",
    "m[4,0] = list_of_dict[4]['pop']\n",
    "m[5,0] = list_of_dict[5]['push']\n",
    "m[6,0] = list_of_dict[6]['sub']\n",
    "\n",
    "list_of_dict.sort(key=lambda obj:obj.get('call'), reverse=True)\n",
    "\n",
    "m[0,1] = list_of_dict[0]['add']\n",
    "m[1,1] = list_of_dict[1]['call']\n",
    "m[2,1] = list_of_dict[2]['cmp']\n",
    "m[3,1] = list_of_dict[3]['lea']\n",
    "m[4,1] = list_of_dict[4]['pop']\n",
    "m[5,1] = list_of_dict[5]['push']\n",
    "m[6,1] = list_of_dict[6]['sub']\n",
    "\n",
    "list_of_dict.sort(key=lambda obj:obj.get('cmp'), reverse=True)\n",
    "\n",
    "list_of_dict.sort(key=lambda obj:obj.get('lea'), reverse=True)\n",
    "\n",
    "list_of_dict.sort(key=lambda obj:obj.get('pop'), reverse=True)\n",
    "\n",
    "list_of_dict.sort(key=lambda obj:obj.get('push'), reverse=True)\n",
    "\n",
    "list_of_dict.sort(key=lambda obj:obj.get('sub'), reverse=True)\n",
    "\n",
    "'''\n",
    "\n",
    "from scipy import spatial\n",
    "\n",
    "import numpy as np\n",
    "\n",
    "a = np.squeeze(np.asarray(m.reshape(1,49)))\n",
    "\n",
    "kill = np.array([0,3,0,1,0,1,0,1,0,0,0,23,46,3,1,0,0,0,1,1,0,1,0,0,0,1,3,2,0,0,0,3,2,0,0,\n",
    " 6,0,2,0,3,0,0,1,0,1,0,0,0,0])\n",
    "\n",
    "print(b)\n",
    "\n",
    "c_kill = 1 - spatial.distance.cosine(a, kill)\n",
    "\n",
    "print(c_kill)"
   ]
  },
  {
   "cell_type": "code",
   "execution_count": 28,
   "metadata": {},
   "outputs": [
    {
     "name": "stdout",
     "output_type": "stream",
     "text": [
      "0.390696569424\n"
     ]
    }
   ],
   "source": [
    "ln = np.array([0,3,2,1,0,0,3,2,0,2,1,5,4,1,1,1,1,0,2,2,0  \n",
    "   ,3,0,0,0,0,0,3,0,0,0,6,0,0,0  \n",
    "   ,6,0,6,0,0,0,0,1,0,1,0,0,1,0 ])\n",
    "\n",
    "tar = np.array([2, 7, 1, 1, 0, 2, 1 ,1, 1, 0, 2,14, 0, 4  \n",
    " ,1, 1, 0, 0, 0, 3, 0 ,6, 3, 3, 0, 3, 5, 6  \n",
    " ,0, 0, 0, 6, 0, 0, 0 ,0, 0, 6, 0, 0, 0, 1  \n",
    " ,4, 3, 2, 0, 1, 0, 7 ])\n",
    "\n",
    "c_ln = 1 - spatial.distance.cosine(a, ln)\n",
    "\n",
    "print(c_ln)"
   ]
  },
  {
   "cell_type": "code",
   "execution_count": 29,
   "metadata": {},
   "outputs": [
    {
     "name": "stdout",
     "output_type": "stream",
     "text": [
      "0.422975073163\n"
     ]
    }
   ],
   "source": [
    "c_tar = 1 - spatial.distance.cosine(a, tar)\n",
    "\n",
    "print(c_tar)"
   ]
  },
  {
   "cell_type": "code",
   "execution_count": null,
   "metadata": {},
   "outputs": [],
   "source": []
  }
 ],
 "metadata": {
  "kernelspec": {
   "display_name": "Python 2",
   "language": "python",
   "name": "python2"
  },
  "language_info": {
   "codemirror_mode": {
    "name": "ipython",
    "version": 2
   },
   "file_extension": ".py",
   "mimetype": "text/x-python",
   "name": "python",
   "nbconvert_exporter": "python",
   "pygments_lexer": "ipython2",
   "version": "2.7.12"
  }
 },
 "nbformat": 4,
 "nbformat_minor": 2
}
